{
 "cells": [
  {
   "cell_type": "code",
   "execution_count": null,
   "id": "9bccbe86-45eb-43d2-aefc-92eb271d2a45",
   "metadata": {},
   "outputs": [],
   "source": [
    "# -*- coding: utf-8 -*-\n",
    "# ---\n",
    "# jupyter:\n",
    "#   jupytext:\n",
    "#     text_representation:\n",
    "#       extension: .r\n",
    "#       format_name: percent\n",
    "#       format_version: '1.3'\n",
    "#       jupytext_version: 1.17.2\n",
    "#   kernelspec:\n",
    "#     display_name: R\n",
    "#     language: R\n",
    "#     name: ir\n",
    "# ---"
   ]
  },
  {
   "cell_type": "markdown",
   "id": "eb5db32d-c506-4c55-921a-8387df82e92b",
   "metadata": {},
   "source": [
    "# Hello"
   ]
  },
  {
   "cell_type": "markdown",
   "id": "28df928a-7a2c-4795-8ec5-f1447eab1869",
   "metadata": {},
   "source": [
    "# this is markdown cell\n",
    "\n",
    "TODO"
   ]
  },
  {
   "cell_type": "code",
   "execution_count": null,
   "id": "c3506214-2d46-49df-b18c-72895b613e81",
   "metadata": {},
   "outputs": [],
   "source": [
    "print(\"Hello, Neopyter!\")"
   ]
  },
  {
   "cell_type": "raw",
   "id": "b5c70b38-74e8-4bd9-ac57-eb419bcdcaab",
   "metadata": {},
   "source": [
    "this is row cell"
   ]
  }
 ],
 "metadata": {
  "kernelspec": {
   "display_name": "R",
   "language": "R",
   "name": "ir"
  },
  "language_info": {
   "name": ""
  }
 },
 "nbformat": 4,
 "nbformat_minor": 5
}
